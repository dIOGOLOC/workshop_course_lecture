{
  "nbformat": 4,
  "nbformat_minor": 0,
  "metadata": {
    "colab": {
      "provenance": []
    },
    "kernelspec": {
      "name": "python3",
      "display_name": "Python 3"
    },
    "language_info": {
      "name": "python"
    }
  },
  "cells": [
    {
      "cell_type": "markdown",
      "source": [
        "# **Breve introdução ao Google Colab**\n",
        "\n",
        "![image](https://doity.com.br/media/doity/parceiros/5622_parceiro.jpeg)"
      ],
      "metadata": {
        "id": "PdROpk2O0dWi"
      }
    },
    {
      "cell_type": "markdown",
      "source": [
        "---\n",
        "Para facilitar a aprendizagem, utilizaremos o Google Colab, neste [vídeo](https://youtu.be/ek8zToZa7h0) você pode encontrar informações introdutórias sobre essa plataforma. Um modelo mostrando as funções básicas do Google Colab você pode encontrar [aqui](https://colab.research.google.com/notebooks/basic_features_overview.ipynb) e outros exemplos nessa [publicação](https://colab.research.google.com/notebooks/)."
      ],
      "metadata": {
        "id": "MQ0IyfsT01E0"
      }
    },
    {
      "cell_type": "markdown",
      "source": [
        "---\n",
        "Existem dois tipos de células:\n",
        "\n",
        "*   Texto\n",
        "*   Código\n",
        "\n",
        "Execute-as através dos comandos:\n",
        "\n",
        "*   Shift + Enter: Executar a célula e ir para a célula seguinte\n",
        "*   Ctrl/Cmd + Enter: Executar a célula e continuar na mesma"
      ],
      "metadata": {
        "id": "EdkxF5af01Hn"
      }
    },
    {
      "cell_type": "markdown",
      "source": [
        "----\n",
        "Imprima coisas através do comando:"
      ],
      "metadata": {
        "id": "6ybvhdYumbvm"
      }
    },
    {
      "cell_type": "code",
      "source": [
        "print(\"Boa tarde!\")"
      ],
      "metadata": {
        "colab": {
          "base_uri": "https://localhost:8080/"
        },
        "id": "T4v7kAC9ltdM",
        "outputId": "bd973530-64bf-4a49-bb1b-65ded355b4fb"
      },
      "execution_count": 4,
      "outputs": [
        {
          "output_type": "stream",
          "name": "stdout",
          "text": [
            "Boa tarde!\n"
          ]
        }
      ]
    },
    {
      "cell_type": "markdown",
      "source": [
        "----\n",
        "# Importe pacotes através dos comandos:"
      ],
      "metadata": {
        "id": "yXn4ZY_NpyRL"
      }
    },
    {
      "cell_type": "code",
      "source": [
        "import matplotlib.pyplot as plt"
      ],
      "metadata": {
        "id": "TBYb0sgKqOVT"
      },
      "execution_count": null,
      "outputs": []
    },
    {
      "cell_type": "markdown",
      "source": [
        "# Três tipos básicos de números:"
      ],
      "metadata": {
        "id": "qQzslcmUqQZ1"
      }
    },
    {
      "cell_type": "code",
      "source": [
        "a = 1             # Int\n",
        "b = 2.0           # Floating Point Numbers\n",
        "c = 3.0 + 4j      # Complex Numbers, note the use of j for the complex part"
      ],
      "metadata": {
        "id": "WJ7b08Nxtii5"
      },
      "execution_count": null,
      "outputs": []
    },
    {
      "cell_type": "code",
      "source": [
        "print(\"a:\",a)"
      ],
      "metadata": {
        "colab": {
          "base_uri": "https://localhost:8080/"
        },
        "id": "OuWTAY5j2nxg",
        "outputId": "1be04573-2389-4f82-8ae3-ee6c41b64477"
      },
      "execution_count": null,
      "outputs": [
        {
          "output_type": "stream",
          "name": "stdout",
          "text": [
            "a: 1\n"
          ]
        }
      ]
    },
    {
      "cell_type": "markdown",
      "source": [
        "# A aritmética funciona como esperado.\n",
        "## (int -> float -> complex)"
      ],
      "metadata": {
        "id": "0CqT7PRJtnsB"
      }
    },
    {
      "cell_type": "code",
      "source": [
        "d = a + b         # (int + float = float)\n",
        "print(d)"
      ],
      "metadata": {
        "colab": {
          "base_uri": "https://localhost:8080/"
        },
        "id": "S0PpMg8etqu5",
        "outputId": "b9f8f1db-19db-4504-e4a6-53967a04299f"
      },
      "execution_count": null,
      "outputs": [
        {
          "output_type": "stream",
          "name": "stdout",
          "text": [
            "3.0\n"
          ]
        }
      ]
    },
    {
      "cell_type": "code",
      "source": [
        "f = (a*b)/100\n",
        "print(f)"
      ],
      "metadata": {
        "colab": {
          "base_uri": "https://localhost:8080/"
        },
        "id": "zJlil5uS3OlJ",
        "outputId": "dfc1b0ec-af86-4119-a13f-cb156273b909"
      },
      "execution_count": null,
      "outputs": [
        {
          "output_type": "stream",
          "name": "stdout",
          "text": [
            "0.02\n"
          ]
        }
      ]
    },
    {
      "cell_type": "markdown",
      "source": [
        "# Performs a complex multiplication:"
      ],
      "metadata": {
        "id": "KgHsKxngtuL-"
      }
    },
    {
      "cell_type": "code",
      "source": [
        "e = c**2        # c to the second power\n",
        "print(e)"
      ],
      "metadata": {
        "colab": {
          "base_uri": "https://localhost:8080/"
        },
        "id": "wEVr5y6DteFq",
        "outputId": "dace3aa5-451a-42fd-de11-f09775f5d384"
      },
      "execution_count": null,
      "outputs": [
        {
          "output_type": "stream",
          "name": "stdout",
          "text": [
            "(-7+24j)\n"
          ]
        }
      ]
    },
    {
      "cell_type": "markdown",
      "source": [
        "---\n",
        "# Strings\n",
        "### Você pode usar aspas simples ou duplas para criar strings.\n"
      ],
      "metadata": {
        "id": "-vZKB6lRuBIS"
      }
    },
    {
      "cell_type": "code",
      "source": [
        "print(type(1))\n",
        "print(type(1.0))\n",
        "print(type(\"1\"))"
      ],
      "metadata": {
        "colab": {
          "base_uri": "https://localhost:8080/"
        },
        "id": "60U1JSuO3fcr",
        "outputId": "cc32194c-1870-400e-a1c3-2b52a19b1fc5"
      },
      "execution_count": null,
      "outputs": [
        {
          "output_type": "stream",
          "name": "stdout",
          "text": [
            "<class 'int'>\n",
            "<class 'float'>\n",
            "<class 'str'>\n"
          ]
        }
      ]
    },
    {
      "cell_type": "code",
      "source": [
        "location = \"New York\"\n",
        "print(location)"
      ],
      "metadata": {
        "id": "1KkB4vZMt3CI",
        "colab": {
          "base_uri": "https://localhost:8080/"
        },
        "outputId": "94f36652-dfaf-4241-fa69-ddb297c7075c"
      },
      "execution_count": null,
      "outputs": [
        {
          "output_type": "stream",
          "name": "stdout",
          "text": [
            "New York\n"
          ]
        }
      ]
    },
    {
      "cell_type": "markdown",
      "source": [
        "### Concatena strings com plus.\n"
      ],
      "metadata": {
        "id": "D6NEWgiDujP3"
      }
    },
    {
      "cell_type": "code",
      "source": [
        "where_am_i = 'I am in ' + location"
      ],
      "metadata": {
        "id": "8VSQaG96uSkH"
      },
      "execution_count": null,
      "outputs": []
    },
    {
      "cell_type": "markdown",
      "source": [
        "### Imprime coisas com a função print().\n"
      ],
      "metadata": {
        "id": "PksprEO0uo70"
      }
    },
    {
      "cell_type": "code",
      "source": [
        "print(location+\":\", 1, 2)\n",
        "print(where_am_i)"
      ],
      "metadata": {
        "colab": {
          "base_uri": "https://localhost:8080/"
        },
        "id": "R3sqWq4KuSs5",
        "outputId": "f1af4a2f-31b3-462e-ba96-68251d6de67a"
      },
      "execution_count": null,
      "outputs": [
        {
          "output_type": "stream",
          "name": "stdout",
          "text": [
            "New York: 1 2\n",
            "I am in New York\n"
          ]
        }
      ]
    },
    {
      "cell_type": "markdown",
      "source": [
        "### Strings têm muitos métodos anexados para manipulações comuns.\n"
      ],
      "metadata": {
        "id": "cQnYZYlkuqpy"
      }
    },
    {
      "cell_type": "code",
      "source": [
        "print(location.lower())\n",
        "print(location.upper())\n",
        "print(location.title())"
      ],
      "metadata": {
        "colab": {
          "base_uri": "https://localhost:8080/"
        },
        "id": "0_X_XpAjuSwX",
        "outputId": "6389ea5b-1a9d-42bc-d5c4-650454bed453"
      },
      "execution_count": null,
      "outputs": [
        {
          "output_type": "stream",
          "name": "stdout",
          "text": [
            "new york\n",
            "NEW YORK\n",
            "New York\n"
          ]
        }
      ]
    },
    {
      "cell_type": "markdown",
      "source": [
        "### Acesse itens únicos com colchetes. Os índices negativos são da parte de trás."
      ],
      "metadata": {
        "id": "fg-lNZUQuq1i"
      }
    },
    {
      "cell_type": "code",
      "source": [
        "print(location[0], location[-1])"
      ],
      "metadata": {
        "colab": {
          "base_uri": "https://localhost:8080/"
        },
        "id": "RAFCV-nAuS1B",
        "outputId": "4532e805-530f-4f75-f138-1d27cc82457b"
      },
      "execution_count": null,
      "outputs": [
        {
          "output_type": "stream",
          "name": "stdout",
          "text": [
            "N k\n"
          ]
        }
      ]
    },
    {
      "cell_type": "code",
      "source": [
        "print(location[0], location[len(location)-1])"
      ],
      "metadata": {
        "colab": {
          "base_uri": "https://localhost:8080/"
        },
        "id": "2aNylVU14p9r",
        "outputId": "5635b751-0c05-4bef-aa02-0d3845e98209"
      },
      "execution_count": null,
      "outputs": [
        {
          "output_type": "stream",
          "name": "stdout",
          "text": [
            "N k\n"
          ]
        }
      ]
    },
    {
      "cell_type": "code",
      "source": [
        "len(location)"
      ],
      "metadata": {
        "colab": {
          "base_uri": "https://localhost:8080/"
        },
        "id": "fV_94vAz44F1",
        "outputId": "2080eab5-9354-4399-ea17-552ce48658ee"
      },
      "execution_count": null,
      "outputs": [
        {
          "output_type": "execute_result",
          "data": {
            "text/plain": [
              "8"
            ]
          },
          "metadata": {},
          "execution_count": 15
        }
      ]
    },
    {
      "cell_type": "markdown",
      "source": [
        "### Strings também podem ser cortadas."
      ],
      "metadata": {
        "id": "NeJFuinkurAg"
      }
    },
    {
      "cell_type": "code",
      "source": [
        "print(location[4:0])"
      ],
      "metadata": {
        "colab": {
          "base_uri": "https://localhost:8080/"
        },
        "id": "YXX-ahVJuS8o",
        "outputId": "5a422fe0-d601-4e0d-ba39-4a27841cb6fe"
      },
      "execution_count": null,
      "outputs": [
        {
          "output_type": "stream",
          "name": "stdout",
          "text": [
            "\n"
          ]
        }
      ]
    },
    {
      "cell_type": "markdown",
      "source": [
        "## Exemplos com strings:"
      ],
      "metadata": {
        "id": "92gwRzruvuPV"
      }
    },
    {
      "cell_type": "code",
      "source": [
        "str_linha = \"Brasil 2k22: Não tem como.\"\n",
        "print(str_linha)\n",
        "print(str_linha.upper())\n",
        "print(str_linha.lower())\n",
        "print(str_linha.title())"
      ],
      "metadata": {
        "colab": {
          "base_uri": "https://localhost:8080/"
        },
        "id": "iNKALZTYwN0e",
        "outputId": "2d4b3a09-c869-4ac5-e334-057720d67d39"
      },
      "execution_count": null,
      "outputs": [
        {
          "output_type": "stream",
          "name": "stdout",
          "text": [
            "Brasil 2k22: Não tem como.\n",
            "BRASIL 2K22: NÃO TEM COMO.\n",
            "brasil 2k22: não tem como.\n",
            "Brasil 2K22: Não Tem Como.\n"
          ]
        }
      ]
    },
    {
      "cell_type": "code",
      "source": [
        "number_to_string = str(4)\n",
        "\n",
        "print(number_to_string)\n",
        "print(type(number_to_string))\n",
        "print(type(4))"
      ],
      "metadata": {
        "colab": {
          "base_uri": "https://localhost:8080/"
        },
        "id": "lEjSKQybwWPA",
        "outputId": "40ecdfd8-8806-4546-984e-dbcbb781e3b1"
      },
      "execution_count": null,
      "outputs": [
        {
          "output_type": "stream",
          "name": "stdout",
          "text": [
            "4\n",
            "<class 'str'>\n",
            "<class 'int'>\n"
          ]
        }
      ]
    },
    {
      "cell_type": "markdown",
      "source": [
        "---\n",
        "# Listas e Dicionários\n",
        "### Em Python existem dois tipos principais de coleção:\n",
        "\n",
        "*   Lista\n",
        "*   Dicionário\n",
        "\n",
        "Para mais informações sobres os outros, acesse esse [link](https://docs.python.org/3/tutorial/datastructures.html)\n",
        "\n",
        "### Lista é apenas uma coleção ordenada de objetos.\n",
        "\n",
        "### Uma lista usa colchetes e são coleções ordenadas simples de coisas:"
      ],
      "metadata": {
        "id": "pEmOpCZH50p3"
      }
    },
    {
      "cell_type": "code",
      "source": [
        "lst = [a, b, c, 1, 2, 3, \"olá\"]"
      ],
      "metadata": {
        "id": "Uf3pFLvA6b3t"
      },
      "execution_count": null,
      "outputs": []
    },
    {
      "cell_type": "code",
      "source": [
        "print(lst)"
      ],
      "metadata": {
        "colab": {
          "base_uri": "https://localhost:8080/"
        },
        "id": "znKB4eo75kq9",
        "outputId": "6c4bae8c-8b57-48d5-d1ba-f3de70f4f413"
      },
      "execution_count": null,
      "outputs": [
        {
          "output_type": "stream",
          "name": "stdout",
          "text": [
            "[1, 2.0, (3+4j), 1, 2, 3, 'olá']\n"
          ]
        }
      ]
    },
    {
      "cell_type": "markdown",
      "source": [
        "### Acessar elementos com a mesma notação de *slicing/indexing* de strings:"
      ],
      "metadata": {
        "id": "mmpogVTZ6Cly"
      }
    },
    {
      "cell_type": "code",
      "source": [
        "print('lst:',lst)\n",
        "print('')\n",
        "print('lst[0]:',lst[0])\n",
        "print('')\n",
        "print('lst[:3]:',lst[:3])\n",
        "print('')\n",
        "print('lst:[2:-2]',lst[2:-2])"
      ],
      "metadata": {
        "colab": {
          "base_uri": "https://localhost:8080/"
        },
        "id": "voWb0zKL6fMW",
        "outputId": "4a49107f-e047-46b7-db59-a02f513a27dd"
      },
      "execution_count": null,
      "outputs": [
        {
          "output_type": "stream",
          "name": "stdout",
          "text": [
            "lst: [1, 2.0, (3+4j), 1, 2, 3, 'olá']\n",
            "\n",
            "lst[0]: 1\n",
            "\n",
            "lst[:3]: [1, 2.0, (3+4j)]\n",
            "\n",
            "lst:[2:-2] [(3+4j), 1, 2]\n"
          ]
        }
      ]
    },
    {
      "cell_type": "markdown",
      "source": [
        "***Observe que os índices do Python são baseados em zero!***"
      ],
      "metadata": {
        "id": "bGceyRjX7fxM"
      }
    },
    {
      "cell_type": "markdown",
      "source": [
        "### Os índices negativos são contados no final da lista:"
      ],
      "metadata": {
        "id": "YxJGMymv6Cvj"
      }
    },
    {
      "cell_type": "code",
      "source": [
        "print(lst[-3:])"
      ],
      "metadata": {
        "colab": {
          "base_uri": "https://localhost:8080/"
        },
        "id": "8GaoTthj68nn",
        "outputId": "ce2e4419-901e-4106-b90f-d18897f70411"
      },
      "execution_count": null,
      "outputs": [
        {
          "output_type": "stream",
          "name": "stdout",
          "text": [
            "[2, 3, 'olá']\n"
          ]
        }
      ]
    },
    {
      "cell_type": "markdown",
      "source": [
        "### Anexe elementos com o método ***append***:"
      ],
      "metadata": {
        "id": "6qTwL-AG6C4Z"
      }
    },
    {
      "cell_type": "code",
      "source": [
        "lst.append(\"você\")\n",
        "print(lst)"
      ],
      "metadata": {
        "colab": {
          "base_uri": "https://localhost:8080/"
        },
        "id": "RX5RdTt0510X",
        "outputId": "6d088bd3-7d31-49fe-9685-14f538a4d30c"
      },
      "execution_count": null,
      "outputs": [
        {
          "output_type": "stream",
          "name": "stdout",
          "text": [
            "[1, 2.0, (3+4j), 1, 2, 3, 'olá', 'você']\n"
          ]
        }
      ]
    },
    {
      "cell_type": "markdown",
      "source": [
        "## Dicionários são semelhantes a vetores (*arrays*) associativos. Cada entrada é um par chave-valor.\n",
        "\n",
        "### Os dicionários têm campos nomeados e nenhuma ordem inerente. Como é no caso de listas, elas podem conter qualquer coisa."
      ],
      "metadata": {
        "id": "cDo1OK-H7tZS"
      }
    },
    {
      "cell_type": "code",
      "source": [
        "information = {\n",
        "              \"name\": \"Hans\",\n",
        "              \"surname\": \"Mustermann\",\n",
        "              \"age\": 78,\n",
        "              \"kids\": [1, 2, 3]\n",
        "              }"
      ],
      "metadata": {
        "id": "55X803f87HMx"
      },
      "execution_count": null,
      "outputs": []
    },
    {
      "cell_type": "code",
      "source": [
        "information"
      ],
      "metadata": {
        "colab": {
          "base_uri": "https://localhost:8080/"
        },
        "id": "m4ZH3X4D7VR_",
        "outputId": "a1a5af36-7fa8-413e-e8fd-7b7b481d8b8c"
      },
      "execution_count": null,
      "outputs": [
        {
          "output_type": "execute_result",
          "data": {
            "text/plain": [
              "{'name': 'Hans', 'surname': 'Mustermann', 'age': 78, 'kids': [1, 2, 3]}"
            ]
          },
          "metadata": {},
          "execution_count": 25
        }
      ]
    },
    {
      "cell_type": "markdown",
      "source": [
        "### Acesse os itens usando a chave entre colchetes."
      ],
      "metadata": {
        "id": "Wq3QELaL99ek"
      }
    },
    {
      "cell_type": "code",
      "source": [
        "print(information[\"kids\"])"
      ],
      "metadata": {
        "colab": {
          "base_uri": "https://localhost:8080/"
        },
        "id": "gWhuxSUu-Iqw",
        "outputId": "62997b7f-3834-427c-e836-117eeda80f17"
      },
      "execution_count": null,
      "outputs": [
        {
          "output_type": "stream",
          "name": "stdout",
          "text": [
            "[1, 2, 3]\n"
          ]
        }
      ]
    },
    {
      "cell_type": "markdown",
      "source": [
        "### Adicione coisas novas apenas atribuindo a uma chave:"
      ],
      "metadata": {
        "id": "ZDdn1RiK-CvE"
      }
    },
    {
      "cell_type": "code",
      "source": [
        "print(information)\n",
        "information[\"music\"] = \"jazz\"\n",
        "print(information)"
      ],
      "metadata": {
        "colab": {
          "base_uri": "https://localhost:8080/"
        },
        "id": "DlfAa__C-JAy",
        "outputId": "07b64808-3aea-4d41-f927-9f4a82de5587"
      },
      "execution_count": null,
      "outputs": [
        {
          "output_type": "stream",
          "name": "stdout",
          "text": [
            "{'name': 'Hans', 'surname': 'Mustermann', 'age': 78, 'kids': [1, 2, 3]}\n",
            "{'name': 'Hans', 'surname': 'Mustermann', 'age': 78, 'kids': [1, 2, 3], 'music': 'jazz'}\n"
          ]
        }
      ]
    },
    {
      "cell_type": "markdown",
      "source": [
        "### Excluir coisas usando o operador ***del***:"
      ],
      "metadata": {
        "id": "tQJ9d54M-Cyc"
      }
    },
    {
      "cell_type": "code",
      "source": [
        "del information[\"age\"]\n",
        "print(information)"
      ],
      "metadata": {
        "colab": {
          "base_uri": "https://localhost:8080/"
        },
        "id": "bIdC4Tg69-PS",
        "outputId": "5dc6a3b7-675c-4a84-e5e0-9ac5044a61be"
      },
      "execution_count": null,
      "outputs": [
        {
          "output_type": "stream",
          "name": "stdout",
          "text": [
            "{'name': 'Hans', 'surname': 'Mustermann', 'kids': [1, 2, 3], 'music': 'jazz'}\n"
          ]
        }
      ]
    },
    {
      "cell_type": "markdown",
      "source": [
        "---\n",
        "# Funções\n",
        "*A chave para vencer um grande problema é dividi-lo em muitos menores e resolvê-los um por um. Isso geralmente é obtido usando funções.*\n",
        "\n",
        "### As funções são definidas usando a palavra-chave ***def***:"
      ],
      "metadata": {
        "id": "gmKHrfXz_YnE"
      }
    },
    {
      "cell_type": "code",
      "source": [
        "def do_stuff(a, b):\n",
        "  \"Essa função multiplica a e b.\"\n",
        "  return a * b"
      ],
      "metadata": {
        "id": "I5LezLKpDrWA"
      },
      "execution_count": null,
      "outputs": []
    },
    {
      "cell_type": "markdown",
      "source": [
        "### Chamando os argumentos entre colchetes:"
      ],
      "metadata": {
        "id": "yXUvZ6hnDuDU"
      }
    },
    {
      "cell_type": "code",
      "source": [
        "mult = do_stuff(2, 3)\n",
        "\n",
        "print(mult)"
      ],
      "metadata": {
        "id": "L9dmZIXrDuRk",
        "colab": {
          "base_uri": "https://localhost:8080/"
        },
        "outputId": "285b2993-ba6f-47f5-dc11-40c2a90fbd8f"
      },
      "execution_count": null,
      "outputs": [
        {
          "output_type": "stream",
          "name": "stdout",
          "text": [
            "6\n"
          ]
        }
      ]
    },
    {
      "cell_type": "markdown",
      "source": [
        "### A função Python também pode ter argumentos opcionais:"
      ],
      "metadata": {
        "id": "5SsueKNKDwLY"
      }
    },
    {
      "cell_type": "code",
      "source": [
        "def do_more_stuff(a, b, power=1):\n",
        "  '''\n",
        "  a = float\n",
        "  b = float\n",
        "  power = int\n",
        "  '''\n",
        "  return (a * b) ** power\n",
        "\n",
        "print(do_more_stuff(2, 3))\n",
        "print(do_more_stuff(2, 3, power=3))"
      ],
      "metadata": {
        "id": "NnkVMO7qDwSu",
        "colab": {
          "base_uri": "https://localhost:8080/"
        },
        "outputId": "a28921f5-ee9d-4c7f-bc05-1844114e5d1e"
      },
      "execution_count": null,
      "outputs": [
        {
          "output_type": "stream",
          "name": "stdout",
          "text": [
            "6\n",
            "216\n"
          ]
        }
      ]
    },
    {
      "cell_type": "markdown",
      "source": [
        "### Para funções mais complexas, muitas vezes é uma boa ideia nomear explicitamente os argumentos. Isso é mais fácil de ler e menos propenso a erros."
      ],
      "metadata": {
        "id": "UoYjA7OZD2k6"
      }
    },
    {
      "cell_type": "code",
      "source": [
        "print(do_more_stuff(a=2, b=3, power=3))"
      ],
      "metadata": {
        "id": "OyWNDlg_D2qp",
        "colab": {
          "base_uri": "https://localhost:8080/"
        },
        "outputId": "726c1fb9-2072-4ed9-f312-f711bbd45613"
      },
      "execution_count": null,
      "outputs": [
        {
          "output_type": "stream",
          "name": "stdout",
          "text": [
            "216\n"
          ]
        }
      ]
    },
    {
      "cell_type": "markdown",
      "source": [
        "---\n",
        "# **Import**\n",
        "\n",
        "### Para usar funções e objetos que não fazem parte do namespace padrão, você deve importá-los. Você terá que fazer muito isso, por isso é necessário aprender a fazê-lo.\n"
      ],
      "metadata": {
        "id": "cu2qp-shFICL"
      }
    },
    {
      "cell_type": "markdown",
      "source": [
        "\n",
        "### Importe qualquer coisa e use-a com o acessador de ponto:"
      ],
      "metadata": {
        "id": "J_OOLfTOFmSL"
      }
    },
    {
      "cell_type": "code",
      "source": [
        "import math\n",
        "\n",
        "a = math.cos(4 * math.pi)"
      ],
      "metadata": {
        "id": "khTIdZTGFmIJ"
      },
      "execution_count": null,
      "outputs": []
    },
    {
      "cell_type": "markdown",
      "source": [
        "### Você também pode importar coisas seletivamente."
      ],
      "metadata": {
        "id": "mPvGEXcdFmjJ"
      }
    },
    {
      "cell_type": "code",
      "source": [
        "from math import pi\n",
        "\n",
        "b = 3 * pi\n",
        "print(b)"
      ],
      "metadata": {
        "id": "nNJZbxRyFmdF",
        "colab": {
          "base_uri": "https://localhost:8080/"
        },
        "outputId": "ddb2babe-6b27-4721-ba87-5525e974f48f"
      },
      "execution_count": null,
      "outputs": [
        {
          "output_type": "stream",
          "name": "stdout",
          "text": [
            "9.42477796076938\n"
          ]
        }
      ]
    },
    {
      "cell_type": "markdown",
      "source": [
        "### E até renomeie-os se você não gostar do nome deles:"
      ],
      "metadata": {
        "id": "7VfWLmlkFmtn"
      }
    },
    {
      "cell_type": "code",
      "source": [
        "from math import cos as cosine\n",
        "c = cosine(b)"
      ],
      "metadata": {
        "id": "MSa3Yw4lFmpG"
      },
      "execution_count": null,
      "outputs": []
    },
    {
      "cell_type": "code",
      "source": [
        "print(c)"
      ],
      "metadata": {
        "id": "B1X4Ci7j-nHk",
        "outputId": "f41a1097-660f-47ff-d8e8-db6c6a9d00ca",
        "colab": {
          "base_uri": "https://localhost:8080/"
        }
      },
      "execution_count": null,
      "outputs": [
        {
          "output_type": "stream",
          "name": "stdout",
          "text": [
            "-1.0\n"
          ]
        }
      ]
    },
    {
      "cell_type": "code",
      "source": [],
      "metadata": {
        "id": "uaKAbbN8-oG7"
      },
      "execution_count": null,
      "outputs": []
    }
  ]
}